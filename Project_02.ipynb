{
  "nbformat": 4,
  "nbformat_minor": 0,
  "metadata": {
    "colab": {
      "provenance": [],
      "toc_visible": true,
      "authorship_tag": "ABX9TyNJDPzVGSAve1FnlggMYXAP",
      "include_colab_link": true
    },
    "kernelspec": {
      "name": "python3",
      "display_name": "Python 3"
    },
    "language_info": {
      "name": "python"
    }
  },
  "cells": [
    {
      "cell_type": "markdown",
      "metadata": {
        "id": "view-in-github",
        "colab_type": "text"
      },
      "source": [
        "<a href=\"https://colab.research.google.com/github/HungPham2002/Data-handling-Crawling-data/blob/main/Project_02.ipynb\" target=\"_parent\"><img src=\"https://colab.research.google.com/assets/colab-badge.svg\" alt=\"Open In Colab\"/></a>"
      ]
    },
    {
      "cell_type": "markdown",
      "source": [
        "# Data Table Handling"
      ],
      "metadata": {
        "id": "3etljd8VGPDa"
      }
    },
    {
      "cell_type": "code",
      "execution_count": null,
      "metadata": {
        "id": "wJeKhv-jOmd7"
      },
      "outputs": [],
      "source": [
        "import pandas as pd"
      ]
    },
    {
      "cell_type": "code",
      "source": [
        "advertising_dataset_path = 'https://raw.githubusercontent.com/justmarkham/scikit-learn-videos/master/data/Advertising.csv'\n",
        "advertising_df = pd.read_csv(advertising_dataset_path, index_col = 0)\n",
        "print(advertising_df)"
      ],
      "metadata": {
        "colab": {
          "base_uri": "https://localhost:8080/"
        },
        "id": "2wr0rg6tGV64",
        "outputId": "83bb111e-99eb-41d1-f787-5e4f41881634"
      },
      "execution_count": null,
      "outputs": [
        {
          "output_type": "stream",
          "name": "stdout",
          "text": [
            "        TV  Radio  Newspaper  Sales\n",
            "1    230.1   37.8       69.2   22.1\n",
            "2     44.5   39.3       45.1   10.4\n",
            "3     17.2   45.9       69.3    9.3\n",
            "4    151.5   41.3       58.5   18.5\n",
            "5    180.8   10.8       58.4   12.9\n",
            "..     ...    ...        ...    ...\n",
            "196   38.2    3.7       13.8    7.6\n",
            "197   94.2    4.9        8.1    9.7\n",
            "198  177.0    9.3        6.4   12.8\n",
            "199  283.6   42.0       66.2   25.5\n",
            "200  232.1    8.6        8.7   13.4\n",
            "\n",
            "[200 rows x 4 columns]\n"
          ]
        }
      ]
    },
    {
      "cell_type": "code",
      "source": [
        "advertising_lst = advertising_df.values.tolist()"
      ],
      "metadata": {
        "id": "B8kaLnvlHqYw"
      },
      "execution_count": null,
      "outputs": []
    },
    {
      "cell_type": "markdown",
      "source": [
        "## Find sum of columns"
      ],
      "metadata": {
        "id": "XLKnxOsQIAx1"
      }
    },
    {
      "cell_type": "code",
      "source": [
        "tv_sum = sum (lst[0] for lst in advertising_lst)\n",
        "radio_sum = sum ([lst[1] for lst in advertising_lst])\n",
        "news_sum = sum ([lst[2] for lst in advertising_lst])\n",
        "sales_sum = sum ([lst[3] for lst in advertising_lst])\n",
        "print ('TV sum: ',tv_sum)\n",
        "print ('Radio sum: ',radio_sum)\n",
        "print ('Newspaper sum: ', news_sum)\n",
        "print ('Sales sum: ',sales_sum)"
      ],
      "metadata": {
        "colab": {
          "base_uri": "https://localhost:8080/"
        },
        "id": "Fu5nggABIDRn",
        "outputId": "b6d3d9e3-33e5-4413-980d-88eae4dd1f0d"
      },
      "execution_count": null,
      "outputs": [
        {
          "output_type": "stream",
          "name": "stdout",
          "text": [
            "TV sum:  29408.499999999996\n",
            "Radio sum:  4652.800000000005\n",
            "Newspaper sum:  6110.799999999999\n",
            "Sales sum:  2804.5000000000005\n"
          ]
        }
      ]
    },
    {
      "cell_type": "markdown",
      "source": [
        "## Find sum of columns from row 2nd to row 11th"
      ],
      "metadata": {
        "id": "Z4UupBpXJbg0"
      }
    },
    {
      "cell_type": "code",
      "source": [
        "nd_th_lst = advertising_lst[1:11]\n",
        "tv_sum = sum (lst[0] for lst in nd_th_lst)\n",
        "radio_sum = sum ([lst[1] for lst in nd_th_lst])\n",
        "news_sum = sum ([lst[2] for lst in nd_th_lst])\n",
        "sales_sum = sum ([lst[3] for lst in nd_th_lst])\n",
        "print ('TV sum: ',tv_sum)\n",
        "print ('Radio sum: ',radio_sum)\n",
        "print ('Newspaper sum: ', news_sum)\n",
        "print ('Sales sum: ',sales_sum)"
      ],
      "metadata": {
        "colab": {
          "base_uri": "https://localhost:8080/"
        },
        "id": "xLsGrnNsJjyb",
        "outputId": "45f5c94e-f9f4-4c3e-aecc-5cc202e32746"
      },
      "execution_count": null,
      "outputs": [
        {
          "output_type": "stream",
          "name": "stdout",
          "text": [
            "TV sum:  854.9\n",
            "Radio sum:  249.1\n",
            "Newspaper sum:  387.8\n",
            "Sales sum:  107.3\n"
          ]
        }
      ]
    },
    {
      "cell_type": "markdown",
      "source": [
        "## Find Min & Max"
      ],
      "metadata": {
        "id": "dQcoU5EkLNHV"
      }
    },
    {
      "cell_type": "code",
      "source": [
        "tv_lst = [lst[0] for lst in advertising_lst]\n",
        "radio_lst = [lst[1] for lst in advertising_lst]\n",
        "news_lst = [lst[2] for lst in advertising_lst]\n",
        "sales_lst = [lst[3] for lst in advertising_lst]\n",
        "\n",
        "tv_min , tv_max = min(tv_lst) , max(tv_lst)\n",
        "radio_min , radio_max = min(radio_lst) , max(radio_lst)\n",
        "news_min , news_max = min(news_lst) , max(news_lst)\n",
        "sales_min , sales_max = min(sales_lst) , max(sales_lst)\n",
        "\n",
        "print (f'TV min: {tv_min}, TV max: {tv_max}')\n",
        "print (f'Radio min: {radio_min}, Radio max: {radio_max}')\n",
        "print (f'News min: {news_min}, News max: {news_max}')\n",
        "print (f'Sales min: {sales_min}, Sales max: {sales_max}')"
      ],
      "metadata": {
        "colab": {
          "base_uri": "https://localhost:8080/"
        },
        "id": "H7G7iKL_LRUi",
        "outputId": "8606bd72-cd8d-4cd4-bb38-7a344480d00b"
      },
      "execution_count": null,
      "outputs": [
        {
          "output_type": "stream",
          "name": "stdout",
          "text": [
            "TV min: 0.7, TV max: 296.4\n",
            "Radio min: 0.0, Radio max: 49.6\n",
            "News min: 0.3, News max: 114.0\n",
            "Sales min: 1.6, Sales max: 27.0\n"
          ]
        }
      ]
    },
    {
      "cell_type": "markdown",
      "source": [
        "## Find Average"
      ],
      "metadata": {
        "id": "_4T_ALQVM6eh"
      }
    },
    {
      "cell_type": "code",
      "source": [
        "tv_lst = [lst[0] for lst in advertising_lst]\n",
        "radio_lst = [lst[1] for lst in advertising_lst]\n",
        "news_lst = [lst[2] for lst in advertising_lst]\n",
        "sales_lst = [lst[3] for lst in advertising_lst]\n",
        "\n",
        "avg_tv = sum(tv_lst) / len(tv_lst)\n",
        "avg_radio = sum(radio_lst) / len(radio_lst)\n",
        "avg_news = sum(news_lst) / len(news_lst)\n",
        "avg_sales = sum(sales_lst) / len(sales_lst)\n",
        "\n",
        "print ('TV avg: ',avg_tv)\n",
        "print ('Radio avg: ',avg_radio)\n",
        "print ('Newspaper avg: ', avg_news)\n",
        "print ('Sales avg: ',avg_sales)"
      ],
      "metadata": {
        "colab": {
          "base_uri": "https://localhost:8080/"
        },
        "id": "6k3gfRiAM75Y",
        "outputId": "608ebaed-6b9e-4748-b548-054b7b468d07"
      },
      "execution_count": null,
      "outputs": [
        {
          "output_type": "stream",
          "name": "stdout",
          "text": [
            "TV avg:  147.0425\n",
            "Radio avg:  23.264000000000024\n",
            "Newspaper avg:  30.553999999999995\n",
            "Sales avg:  14.022500000000003\n"
          ]
        }
      ]
    },
    {
      "cell_type": "markdown",
      "source": [
        "## Find median"
      ],
      "metadata": {
        "id": "3AH5hTHUPjl5"
      }
    },
    {
      "cell_type": "code",
      "source": [
        "def median(lst):\n",
        "  sorted_lst = sorted(lst)\n",
        "  n =len (lst)\n",
        "  mid = n//2\n",
        "  if n % 2 == 0:\n",
        "    y = (sorted_lst[mid] + sorted_lst[mid - 1]) / 2\n",
        "  else:\n",
        "    y = sorted_lst[mid]\n",
        "  return y"
      ],
      "metadata": {
        "id": "QGE1uh1tP5Ez"
      },
      "execution_count": null,
      "outputs": []
    },
    {
      "cell_type": "code",
      "source": [
        "med_tv = median(tv_lst)\n",
        "med_radio = median(radio_lst)\n",
        "med_news = median(news_lst)\n",
        "med_sales = median(sales_lst)\n",
        "\n",
        "print ('TV med: ',med_tv)\n",
        "print ('Radio med: ',med_radio)\n",
        "print ('Newspaper med: ', med_news)\n",
        "print ('Sales med: ',med_sales)"
      ],
      "metadata": {
        "colab": {
          "base_uri": "https://localhost:8080/"
        },
        "id": "Jsv1HL7NPlos",
        "outputId": "52eabe95-397f-43c2-f13f-dcef0e70b4b4"
      },
      "execution_count": null,
      "outputs": [
        {
          "output_type": "stream",
          "name": "stdout",
          "text": [
            "TV med:  149.75\n",
            "Radio med:  22.9\n",
            "Newspaper med:  25.75\n",
            "Sales med:  12.9\n"
          ]
        }
      ]
    },
    {
      "cell_type": "markdown",
      "source": [
        "## Find Contribution percentage"
      ],
      "metadata": {
        "id": "vPOn0rR-QxEx"
      }
    },
    {
      "cell_type": "code",
      "source": [
        "tv_lst=[lst[0] for lst in advertising_lst]\n",
        "radio_lst = [lst[1] for lst in advertising_lst]\n",
        "newspaper_lst = [lst[2] for lst in advertising_lst]\n",
        "\n",
        "total_budget = sum(tv_lst) + sum (radio_lst) + sum (newspaper_lst)\n",
        "\n",
        "tv_percentage = (sum(tv_lst) / total_budget) * 100\n",
        "radio_percentage = (sum(radio_lst) / total_budget) * 100\n",
        "newspaper_percentage = (sum(newspaper_lst) / total_budget) * 100\n",
        "\n",
        "print (f'TV Percentage: {tv_percentage:.3f}%')\n",
        "print (f'Radio Percentage: {radio_percentage:.3f}%')\n",
        "print (f'Newspaper Percentage: {newspaper_percentage:.3f}%')"
      ],
      "metadata": {
        "colab": {
          "base_uri": "https://localhost:8080/"
        },
        "id": "qUb55i9RQ04O",
        "outputId": "268d7a5e-4358-4f3a-b371-a38118c190a9"
      },
      "execution_count": null,
      "outputs": [
        {
          "output_type": "stream",
          "name": "stdout",
          "text": [
            "TV Percentage: 73.206%\n",
            "Radio Percentage: 11.582%\n",
            "Newspaper Percentage: 15.212%\n"
          ]
        }
      ]
    },
    {
      "cell_type": "markdown",
      "source": [
        "# Text Presentation"
      ],
      "metadata": {
        "id": "zvyt5rieTbE5"
      }
    },
    {
      "cell_type": "markdown",
      "source": [
        "## Text normalization: lowercasing"
      ],
      "metadata": {
        "id": "Tu9YQAIlTc_x"
      }
    },
    {
      "cell_type": "code",
      "source": [
        "import string"
      ],
      "metadata": {
        "id": "IO_NRr7xTi-q"
      },
      "execution_count": null,
      "outputs": []
    },
    {
      "cell_type": "code",
      "source": [
        "remove_characters = '\\t\"\"' + string.punctuation"
      ],
      "metadata": {
        "id": "UC7oDzI0TmOV"
      },
      "execution_count": null,
      "outputs": []
    },
    {
      "cell_type": "code",
      "source": [
        "def text_normalize (text):\n",
        "  text = text.lower()\n",
        "  text = text.strip() # remove blank and space\n",
        "  text = text.replace('\\n', ' ')\n",
        "  for char in remove_characters:\n",
        "    text = text.replace(char, '')\n",
        "  \n",
        "  return text"
      ],
      "metadata": {
        "id": "I5WUh05uT2C3"
      },
      "execution_count": null,
      "outputs": []
    },
    {
      "cell_type": "code",
      "source": [
        "text = 'iT i=_(s Ok@@#^AY HOo`$MaN, w+-E cAN Try aG#aIN toMo*@#row'\n",
        "print(text_normalize(text))"
      ],
      "metadata": {
        "colab": {
          "base_uri": "https://localhost:8080/"
        },
        "id": "nY4skElZke7T",
        "outputId": "e4fb328c-2829-445c-e769-f7c0568abed7"
      },
      "execution_count": null,
      "outputs": [
        {
          "output_type": "stream",
          "name": "stdout",
          "text": [
            "it is okay hooman we can try again tomorow\n"
          ]
        }
      ]
    },
    {
      "cell_type": "markdown",
      "source": [
        "## Create Dictionary"
      ],
      "metadata": {
        "id": "AwJHZIoBiPSW"
      }
    },
    {
      "cell_type": "code",
      "source": [
        "def create_dictionary(corpus):\n",
        "  dictionary = []\n",
        "  for paragraph in corpus:\n",
        "    paragraph = text_normalize(paragraph)\n",
        "    tokens = paragraph.split()\n",
        "    for token in tokens:\n",
        "      if token not in dictionary:\n",
        "        dictionary.append(token)\n",
        "  \n",
        "  return dictionary"
      ],
      "metadata": {
        "id": "gkPV24gyiRAK"
      },
      "execution_count": null,
      "outputs": []
    },
    {
      "cell_type": "code",
      "source": [
        "corpus = ['Hello everybody', 'My name is Duy Hung' , 'My name means Duy in Duy Hung', 'Hung in Duy Hung' ]\n",
        "dictionary = create_dictionary(corpus)\n",
        "print(dictionary)"
      ],
      "metadata": {
        "colab": {
          "base_uri": "https://localhost:8080/"
        },
        "id": "YE4WWEyhmGyb",
        "outputId": "f0ddc125-c15c-4d28-ea65-066f089dca84"
      },
      "execution_count": null,
      "outputs": [
        {
          "output_type": "stream",
          "name": "stdout",
          "text": [
            "['hello', 'everybody', 'my', 'name', 'is', 'duy', 'hung', 'means', 'in']\n"
          ]
        }
      ]
    },
    {
      "cell_type": "markdown",
      "source": [
        "## Create new text presentation"
      ],
      "metadata": {
        "id": "9CFBDsxoizEN"
      }
    },
    {
      "cell_type": "code",
      "source": [
        "def vectorizer (text, dictionary, unknown_token_id):\n",
        "  text = text_normalize(text)\n",
        "  tokens = text.split()\n",
        "  vector = [\n",
        "      dictionary.index(token) \\\n",
        "      if token in dictionary else unknown_token_id \\\n",
        "        for token in tokens \n",
        "  ]\n",
        "  return vector\n"
      ],
      "metadata": {
        "id": "x0jPS_pRiyVn"
      },
      "execution_count": null,
      "outputs": []
    },
    {
      "cell_type": "code",
      "source": [
        "corpus = ['Hello everybody', 'My name is Duy Hung' , 'My name means Duy in Duy Hung', 'Hung in Duy Hung' ]\n",
        "dictionary = create_dictionary(corpus)\n",
        "print(dictionary)\n",
        "text = 'Hung Duy us together'\n",
        "unknown_token_id = len(dictionary)\n",
        "vectorized_text = vectorizer(text, dictionary, unknown_token_id)\n",
        "print (vectorized_text)"
      ],
      "metadata": {
        "colab": {
          "base_uri": "https://localhost:8080/"
        },
        "id": "s0DnifjtvrW5",
        "outputId": "277f0a19-e8cd-4998-925b-f566656e6fc1"
      },
      "execution_count": null,
      "outputs": [
        {
          "output_type": "stream",
          "name": "stdout",
          "text": [
            "['hello', 'everybody', 'my', 'name', 'is', 'duy', 'hung', 'means', 'in']\n",
            "[6, 5, 9, 9]\n"
          ]
        }
      ]
    },
    {
      "cell_type": "markdown",
      "source": [
        "# Data Crawling"
      ],
      "metadata": {
        "id": "zPKFTrv3wbyi"
      }
    },
    {
      "cell_type": "code",
      "source": [
        "# Local"
      ],
      "metadata": {
        "id": "C_fw33DPDPXB"
      },
      "execution_count": null,
      "outputs": []
    }
  ]
}